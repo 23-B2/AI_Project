{
 "cells": [
  {
   "cell_type": "code",
   "execution_count": 3,
   "metadata": {},
   "outputs": [
    {
     "name": "stdout",
     "output_type": "stream",
     "text": [
      "주량순위 : 현우형>대등이형>예진누나>기쁨이>성욱>은비\n",
      "정답입니다!\n"
     ]
    }
   ],
   "source": [
    "print('주량순위 : 현우형>대등이형>예진누나>기쁨이>성욱>은비')\n",
    "first = input('주량 일등을 입력하세요')\n",
    "if first == '성욱':\n",
    "    print('정답입니다!')\n",
    "else:\n",
    "    print('다시 생각해보세요...')"
   ]
  }
 ],
 "metadata": {
  "kernelspec": {
   "display_name": "base",
   "language": "python",
   "name": "python3"
  },
  "language_info": {
   "codemirror_mode": {
    "name": "ipython",
    "version": 3
   },
   "file_extension": ".py",
   "mimetype": "text/x-python",
   "name": "python",
   "nbconvert_exporter": "python",
   "pygments_lexer": "ipython3",
   "version": "3.9.16"
  },
  "orig_nbformat": 4
 },
 "nbformat": 4,
 "nbformat_minor": 2
}
